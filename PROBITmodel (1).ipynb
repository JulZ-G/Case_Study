{
 "cells": [
  {
   "cell_type": "markdown",
   "metadata": {},
   "source": [
    "## PROBIT"
   ]
  },
  {
   "cell_type": "code",
   "execution_count": 1,
   "metadata": {},
   "outputs": [],
   "source": [
    "import pandas as pd\n",
    "import numpy as np\n",
    "import matplotlib.pyplot as plt\n",
    "from sklearn.metrics import r2_score as r2_score\n",
    "from statsmodels.graphics.tsaplots import plot_acf, plot_pacf\n",
    "from statsmodels.tsa.stattools import adfuller\n",
    "import patsy as patsy\n",
    "from patsy import ModelDesc\n",
    "from patsy import dmatrices\n",
    "from patsy import ModelDesc, Term, EvalFactor\n",
    "import statsmodels.api as sm\n",
    "from statsmodels.discrete.discrete_model import Logit\n",
    "from statsmodels.discrete.discrete_model import Probit\n",
    "import operator\n",
    "import math\n",
    "import seaborn as sns\n",
    "import statsmodels"
   ]
  },
  {
   "cell_type": "markdown",
   "metadata": {},
   "source": [
    "## Data"
   ]
  },
  {
   "cell_type": "code",
   "execution_count": 2,
   "metadata": {},
   "outputs": [],
   "source": [
    "df_MIDBFR = pd.read_csv('frequencyMID.csv',sep=\";\")\n",
    "df_MIDB = pd.read_csv('BINARYTABLE.csv', sep=\";\")\n",
    "Year = df_MIDBFR['YEAR']"
   ]
  },
  {
   "cell_type": "markdown",
   "metadata": {},
   "source": [
    "## Lagged Variables"
   ]
  },
  {
   "cell_type": "code",
   "execution_count": 37,
   "metadata": {},
   "outputs": [],
   "source": [
    "country = 'USA'\n",
    "FirstPredictedYear = 2015\n",
    "row= FirstPredictedYear - 1816\n",
    "row2= row + 1\n",
    "row3= row2 + 1\n",
    "row4= row3 + 1\n",
    "row5= row4 + 1\n",
    "inter_confl = df_MIDB[country]\n",
    "s3 = pd.Series([np.nan,np.nan,np.nan,np.nan,np.nan])\n",
    "inter_confl=inter_confl.append(s3,ignore_index=True)\n",
    "inter_confl=inter_confl.rename(country + \"Conflict\")\n",
    "\n",
    "inter_freq = df_MIDBFR[country]\n",
    "s3 = pd.Series([np.nan,np.nan,np.nan,np.nan,np.nan])\n",
    "inter_freq=inter_freq.append(s3,ignore_index=True)\n",
    "inter_freq=inter_freq.rename(country + \"Frequency\")\n",
    "inter_freq1 = inter_freq.shift(1)\n",
    "inter_freq1 = inter_freq1.rename(\"L1_\"+ country +\"Frequency\")\n",
    "inter_freq2 = inter_freq1.shift(1)\n",
    "inter_freq2 = inter_freq2.rename(\"L2_\"+ country +\"Frequency\")\n",
    "inter_freq3 = inter_freq2.shift(1)\n",
    "inter_freq3 = inter_freq3.rename(\"L3_\"+ country +\"Frequency\")\n",
    "inter_freq4 = inter_freq3.shift(1)\n",
    "inter_freq4 = inter_freq4.rename(\"L4_\"+ country +\"Frequency\")\n",
    "inter_freq5 = inter_freq4.shift(1)\n",
    "inter_freq5 = inter_freq5.rename(\"L5_\"+ country +\"Frequency\")\n",
    "\n",
    "inter_lagged = inter_confl.shift(1)\n",
    "inter_lagged = inter_lagged.rename(\"L1_\" + country + \"Conflict\")\n",
    "inter_lagged2 = inter_lagged.shift(1)\n",
    "inter_lagged2 = inter_lagged2.rename(\"L2_\"+ country +\"Conflict\")\n",
    "inter_lagged3 = inter_lagged2.shift(1)\n",
    "inter_lagged3 = inter_lagged3.rename(\"L3_\"+ country +\"Conflict\")\n",
    "inter_lagged4 = inter_lagged3.shift(1)\n",
    "inter_lagged4 = inter_lagged4.rename(\"L4_\"+ country +\"Conflict\")\n",
    "inter_lagged5 = inter_lagged4.shift(1)\n",
    "inter_lagged5 = inter_lagged5.rename(\"L5_\"+ country +\"Conflict\")\n",
    "data_confl = pd.concat([inter_confl, inter_lagged, inter_lagged2, inter_lagged3, inter_lagged4, inter_lagged5, inter_freq, inter_freq1, inter_freq2, inter_freq3, inter_freq4, inter_freq5],axis=1)\n"
   ]
  },
  {
   "cell_type": "markdown",
   "metadata": {},
   "source": [
    "## # Poisson Regression for Frequency"
   ]
  },
  {
   "cell_type": "code",
   "execution_count": 38,
   "metadata": {},
   "outputs": [
    {
     "name": "stdout",
     "output_type": "stream",
     "text": [
      "Optimization terminated successfully.\n",
      "         Current function value: 1.659471\n",
      "         Iterations 7\n",
      "Optimization terminated successfully.\n",
      "         Current function value: 1.661676\n",
      "         Iterations 7\n",
      "Optimization terminated successfully.\n",
      "         Current function value: 1.664141\n",
      "         Iterations 7\n",
      "Optimization terminated successfully.\n",
      "         Current function value: 1.661801\n",
      "         Iterations 7\n",
      "                          Poisson Regression Results                          \n",
      "==============================================================================\n",
      "Dep. Variable:           UKGFrequency   No. Observations:                  196\n",
      "Model:                        Poisson   Df Residuals:                      193\n",
      "Method:                           MLE   Df Model:                            2\n",
      "Date:                Thu, 28 Jan 2021   Pseudo R-squ.:                 0.08933\n",
      "Time:                        22:29:50   Log-Likelihood:                -325.71\n",
      "converged:                       True   LL-Null:                       -357.66\n",
      "Covariance Type:                  HC3   LLR p-value:                 1.330e-14\n",
      "===================================================================================\n",
      "                      coef    std err          z      P>|z|      [0.025      0.975]\n",
      "-----------------------------------------------------------------------------------\n",
      "Intercept           0.1655      0.089      1.852      0.064      -0.010       0.341\n",
      "L1_UKGFrequency     0.1479      0.036      4.109      0.000       0.077       0.219\n",
      "L3_UKGFrequency     0.0515      0.022      2.333      0.020       0.008       0.095\n",
      "===================================================================================\n"
     ]
    }
   ],
   "source": [
    "#Poisson to predict frequency of unobserved year\n",
    "\n",
    "Z, K = dmatrices(country + 'Frequency'+ '~' + 'L1_'+country+'Frequency + L2_' +country+'Frequency + L3_' +country+ 'Frequency + L4_' \n",
    "                 +country+ 'Frequency + L5_' +country+ 'Frequency', NA_action=patsy.NAAction(NA_types=[]), data=data_confl, return_type='dataframe')\n",
    "\n",
    "def remove_most_insignificant(df, results):\n",
    "    max_p_value = max(results.pvalues.iteritems(), key=operator.itemgetter(1))[0]\n",
    "    df.drop(columns = max_p_value, inplace = True)\n",
    "    return df\n",
    "\n",
    "insignificant_feature = True\n",
    "while insignificant_feature:\n",
    "    modelFR = sm.Poisson(Z, K,missing='drop')\n",
    "    resultsFR = modelFR.fit(cov_type='HC3')\n",
    "    significant = [p_value < 0.05 for p_value in resultsFR.pvalues[1:]]\n",
    "    if all(significant):\n",
    "        insignificant_feature = False\n",
    "    else:\n",
    "        if K.shape[1] == 1:\n",
    "            print('No significant features found')\n",
    "            resultsFR = None\n",
    "            insignificant_feature = False\n",
    "        else:\n",
    "            K = remove_most_insignificant(K, resultsFR)\n",
    "\n",
    "print(resultsFR.summary())\n",
    "\n",
    "signif_valuesFR = resultsFR.params.to_frame()\n",
    "signif_valuesFR = signif_valuesFR.reset_index()\n",
    "signif_valuesFR.columns = ['sign_variable','coef']\n",
    "\n",
    "\n",
    "zeta_1 = signif_valuesFR[signif_valuesFR['sign_variable'] == 'L1_'+ country + 'Frequency'] ['coef'].values\n",
    "zeta_2 = signif_valuesFR[signif_valuesFR['sign_variable'] == 'L2_'+ country + 'Frequency'] ['coef'].values\n",
    "zeta_3 = signif_valuesFR[signif_valuesFR['sign_variable'] == 'L3_'+ country + 'Frequency'] ['coef'].values\n",
    "zeta_4 = signif_valuesFR[signif_valuesFR['sign_variable'] == 'L4_'+ country + 'Frequency'] ['coef'].values\n",
    "zeta_5 = signif_valuesFR[signif_valuesFR['sign_variable'] == 'L5_'+ country + 'Frequency'] ['coef'].values\n",
    "\n",
    "interceptFR = signif_valuesFR[signif_valuesFR['sign_variable'] == 'Intercept'] ['coef'].values\n",
    "if zeta_1.size <= 0:\n",
    "    zeta_1 = 0\n",
    "\n",
    "if zeta_2.size <= 0:\n",
    "    zeta_2 = 0\n",
    "\n",
    "if zeta_3.size <= 0:\n",
    "    zeta_3 = 0\n",
    "\n",
    "if zeta_4.size <= 0:\n",
    "    zeta_4 = 0\n",
    "\n",
    "if zeta_5.size <= 0:\n",
    "    zeta_5 = 0"
   ]
  },
  {
   "cell_type": "code",
   "execution_count": 39,
   "metadata": {},
   "outputs": [
    {
     "name": "stdout",
     "output_type": "stream",
     "text": [
      "1.7581855555855048\n",
      "1.7859839798291284\n",
      "1.7033872815027506\n",
      "1.6618875508040523\n",
      "1.6540796907503512\n"
     ]
    }
   ],
   "source": [
    "Frequency1year = interceptFR + (zeta_1 * data_confl['L1_' +country+ 'Frequency'][row]) + (zeta_2 * data_confl['L2_' +country+ 'Frequency'][row]) + (zeta_3 * data_confl['L3_' +country+ 'Frequency'][row]) + (zeta_4 * data_confl['L4_' +country+ 'Frequency'][row]) + (zeta_5 * data_confl['L5_' +country+ 'Frequency'][row])\n",
    "Frequency1year = math.exp(Frequency1year)\n",
    "Frequency2year = interceptFR + (zeta_1 * Frequency1year) + (zeta_2 * data_confl['L2_' +country+ 'Frequency'][row2]) + (zeta_3 * data_confl['L3_' +country+ 'Frequency'][row2]) + (zeta_4 * data_confl['L4_' +country+ 'Frequency'][row2]) + (zeta_5 * data_confl['L5_' +country+ 'Frequency'][row2])\n",
    "Frequency2year = math.exp(Frequency2year)\n",
    "Frequency3year = interceptFR + (zeta_1 * Frequency2year) + (zeta_2 * Frequency1year) + (zeta_3 * data_confl['L3_' +country+ 'Frequency'][row3]) + (zeta_4 * data_confl['L4_' +country+ 'Frequency'][row3]) + (zeta_5 * data_confl['L5_' +country+ 'Frequency'][row3])\n",
    "Frequency3year = math.exp(Frequency3year)\n",
    "Frequency4year = interceptFR + (zeta_1 * Frequency3year) + (zeta_2 * Frequency2year) + (zeta_3 * Frequency1year) + (zeta_4 * data_confl['L4_' +country+ 'Frequency'][row4]) + (zeta_5 * data_confl['L5_' +country+ 'Frequency'][row4])\n",
    "Frequency4year = math.exp(Frequency4year)\n",
    "Frequency5year = interceptFR + (zeta_1 * Frequency4year) + (zeta_2 * Frequency3year) + (zeta_3 * Frequency2year) + (zeta_4 * Frequency1year) + (zeta_5 * data_confl['L5_' +country+ 'Frequency'][row5])\n",
    "Frequency5year = math.exp(Frequency5year)\n",
    "print(Frequency1year)\n",
    "print(Frequency2year)\n",
    "print(Frequency3year)\n",
    "print(Frequency4year)\n",
    "print(Frequency5year)"
   ]
  },
  {
   "cell_type": "markdown",
   "metadata": {},
   "source": [
    "## Probit"
   ]
  },
  {
   "cell_type": "code",
   "execution_count": 40,
   "metadata": {},
   "outputs": [
    {
     "name": "stdout",
     "output_type": "stream",
     "text": [
      "Optimization terminated successfully.\n",
      "         Current function value: 0.422322\n",
      "         Iterations 7\n",
      "Optimization terminated successfully.\n",
      "         Current function value: 0.422322\n",
      "         Iterations 7\n",
      "Optimization terminated successfully.\n",
      "         Current function value: 0.422352\n",
      "         Iterations 7\n",
      "Optimization terminated successfully.\n",
      "         Current function value: 0.422426\n",
      "         Iterations 7\n",
      "Optimization terminated successfully.\n",
      "         Current function value: 0.422537\n",
      "         Iterations 7\n",
      "Optimization terminated successfully.\n",
      "         Current function value: 0.423111\n",
      "         Iterations 7\n",
      "Optimization terminated successfully.\n",
      "         Current function value: 0.424279\n",
      "         Iterations 7\n",
      "Optimization terminated successfully.\n",
      "         Current function value: 0.429275\n",
      "         Iterations 7\n",
      "Optimization terminated successfully.\n",
      "         Current function value: 0.432433\n",
      "         Iterations 7\n",
      "                          Probit Regression Results                           \n",
      "==============================================================================\n",
      "Dep. Variable:            UKGConflict   No. Observations:                  197\n",
      "Model:                         Probit   Df Residuals:                      194\n",
      "Method:                           MLE   Df Model:                            2\n",
      "Date:                Thu, 28 Jan 2021   Pseudo R-squ.:                  0.2291\n",
      "Time:                        22:29:53   Log-Likelihood:                -85.189\n",
      "converged:                       True   LL-Null:                       -110.50\n",
      "Covariance Type:            nonrobust   LLR p-value:                 1.013e-11\n",
      "===================================================================================\n",
      "                      coef    std err          z      P>|z|      [0.025      0.975]\n",
      "-----------------------------------------------------------------------------------\n",
      "Intercept          -0.2925      0.178     -1.646      0.100      -0.641       0.056\n",
      "L1_UKGFrequency     0.4693      0.113      4.138      0.000       0.247       0.692\n",
      "L2_UKGFrequency     0.2563      0.104      2.467      0.014       0.053       0.460\n",
      "===================================================================================\n"
     ]
    }
   ],
   "source": [
    "#Now that we have all data we can use PROBIT to predict\n",
    "Y, X = dmatrices(country + 'Conflict'+ '~' + ' L1_'+ country + 'Conflict + L2_'+ country + 'Conflict + L3_'+ country +'Conflict + L4_'+ country +\n",
    "                 'Conflict + L5_'+ country +'Conflict + L1_'+country+'Frequency + L2_' +country+'Frequency + L3_' +country+ 'Frequency + L4_' \n",
    "                 +country+ 'Frequency + L5_' +country+ 'Frequency', NA_action=patsy.NAAction(NA_types=[]), data=data_confl, return_type='dataframe')\n",
    "\n",
    "\n",
    "def remove_most_insignificant(df, results):\n",
    "    max_p_value = max(results.pvalues.iteritems(), key=operator.itemgetter(1))[0]\n",
    "    df.drop(columns = max_p_value, inplace = True)\n",
    "    return df\n",
    "\n",
    "insignificant_feature = True\n",
    "while insignificant_feature:\n",
    "    model = sm.Probit(Y, X,missing='drop')\n",
    "    results = model.fit()\n",
    "    significant = [p_value < 0.05 for p_value in results.pvalues[1:]]\n",
    "    if all(significant):\n",
    "        insignificant_feature = False\n",
    "    else:\n",
    "        if X.shape[1] == 1:\n",
    "            print('No significant features found')\n",
    "            results = None\n",
    "            insignificant_feature = False\n",
    "        else:\n",
    "            X = remove_most_insignificant(X, results)\n",
    "\n",
    "print(results.summary())\n",
    "\n",
    "signif_values = results.params.to_frame()\n",
    "signif_values = signif_values.reset_index()\n",
    "signif_values.columns = ['sign_variable','coef']\n",
    "beta1 = signif_values[signif_values['sign_variable'] == 'L1_' + country + 'Conflict'] ['coef'].values\n",
    "beta2 = signif_values[signif_values['sign_variable'] == 'L2_' + country + 'Conflict'] ['coef'].values\n",
    "beta3 = signif_values[signif_values['sign_variable'] == 'L3_' + country + 'Conflict'] ['coef'].values\n",
    "beta4 = signif_values[signif_values['sign_variable'] == 'L4_' + country + 'Conflict'] ['coef'].values\n",
    "beta5 = signif_values[signif_values['sign_variable'] == 'L5_' + country + 'Conflict'] ['coef'].values\n",
    "\n",
    "theta1 = signif_values[signif_values['sign_variable'] == 'L1_'+ country + 'Frequency'] ['coef'].values\n",
    "theta2 = signif_values[signif_values['sign_variable'] == 'L2_'+ country + 'Frequency'] ['coef'].values\n",
    "theta3 = signif_values[signif_values['sign_variable'] == 'L3_'+ country + 'Frequency'] ['coef'].values\n",
    "theta4 = signif_values[signif_values['sign_variable'] == 'L4_'+ country + 'Frequency'] ['coef'].values\n",
    "theta5 = signif_values[signif_values['sign_variable'] == 'L5_'+ country + 'Frequency'] ['coef'].values\n",
    "\n",
    "intercept = signif_values[signif_values['sign_variable'] == 'Intercept'] ['coef'].values\n",
    "\n",
    "if theta1.size <= 0:\n",
    "    theta1 = 0\n",
    "    \n",
    "if theta2.size <= 0:\n",
    "    theta2 = 0\n",
    "    \n",
    "if theta3.size <= 0:\n",
    "    theta3 = 0\n",
    "    \n",
    "if theta4.size <= 0:\n",
    "    theta4 = 0\n",
    "    \n",
    "if theta5.size <= 0:\n",
    "    theta5 = 0\n",
    "\n",
    "if beta1.size <= 0:\n",
    "    beta1 = 0\n",
    "    \n",
    "if beta2.size <= 0:\n",
    "    beta2 = 0\n",
    "    \n",
    "if beta3.size <= 0:\n",
    "    beta3 = 0\n",
    "    \n",
    "if beta4.size <= 0:\n",
    "    beta4 = 0\n",
    "    \n",
    "if beta5.size <= 0:\n",
    "    beta5 = 0"
   ]
  },
  {
   "cell_type": "markdown",
   "metadata": {},
   "source": [
    "## AIC & BIC"
   ]
  },
  {
   "cell_type": "code",
   "execution_count": 41,
   "metadata": {},
   "outputs": [
    {
     "name": "stdout",
     "output_type": "stream",
     "text": [
      "176.3785391150201\n",
      "186.22815030123405\n"
     ]
    }
   ],
   "source": [
    "print(results.aic)\n",
    "print(results.bic)"
   ]
  },
  {
   "cell_type": "code",
   "execution_count": 31,
   "metadata": {},
   "outputs": [
    {
     "name": "stdout",
     "output_type": "stream",
     "text": [
      "[0.99995802]\n",
      "[0.99967035]\n",
      "[0.99998223]\n",
      "[0.99991601]\n",
      "[0.99991058]\n"
     ]
    }
   ],
   "source": [
    "import scipy\n",
    "import scipy.stats as st\n",
    "Y1year= intercept + beta1 * data_confl['L1_' +country+ 'Conflict'][row] + beta2 * data_confl['L2_' +country+ 'Conflict'][row] + beta3 * data_confl['L3_' +country+ 'Conflict'][row] + beta4 * data_confl['L4_' +country+ 'Conflict'][row] + beta5 * data_confl['L5_' +country+ 'Conflict'][row] + theta1 * data_confl['L1_' +country+ 'Frequency'][row] + theta2 * data_confl['L2_' +country+ 'Frequency'][row] + theta3 * data_confl['L3_' +country+ 'Frequency'][row] + theta4 * data_confl['L4_' +country+ 'Frequency'][row] + theta5 * data_confl['L5_' +country+ 'Frequency'][row]\n",
    "P1year = st.norm.cdf(Y1year)\n",
    "Y2year = intercept + beta1 * P1year + beta2 * data_confl['L2_' +country+ 'Conflict'][row2] + beta3 * data_confl['L3_' +country+ 'Conflict'][row2] + beta4 * data_confl['L4_' +country+ 'Conflict'][row2] + beta5 * data_confl['L5_' +country+ 'Conflict'][row2] + theta1 * Frequency1year + theta2 * data_confl['L2_' +country+ 'Frequency'][row2] + theta3 * data_confl['L3_' +country+ 'Frequency'][row2] + theta4 * data_confl['L4_' +country+ 'Frequency'][row2] + theta5 * data_confl['L5_' +country+ 'Frequency'][row2]\n",
    "P2year = st.norm.cdf(Y2year)\n",
    "Y3year = intercept + beta1 * P2year + beta2 * P1year + beta3 * data_confl['L3_' +country+ 'Conflict'][row3] + beta4 * data_confl['L4_' +country+ 'Conflict'][row3] + beta5 * data_confl['L5_' +country+ 'Conflict'][row3] + theta1 * Frequency2year + theta2 * Frequency1year + theta3 * data_confl['L3_' +country+ 'Frequency'][row3] + theta4 * data_confl['L4_' +country+ 'Frequency'][row3] + theta5 * data_confl['L5_' +country+ 'Frequency'][row3]\n",
    "P3year = st.norm.cdf(Y3year)\n",
    "Y4year = intercept + beta1 * P3year + beta2 * P2year + beta3 * P1year + beta4 * data_confl['L4_' +country+ 'Conflict'][row4] + beta5 * data_confl['L5_' +country+ 'Conflict'][row4] + theta1 * Frequency3year + theta2 * Frequency2year + theta3 * Frequency1year + theta4 * data_confl['L4_' +country+ 'Frequency'][row4] + theta5 * data_confl['L5_' +country+ 'Frequency'][row4]\n",
    "P4year = st.norm.cdf(Y4year)\n",
    "Y5year = intercept + beta1 * P4year + beta2 * P3year + beta3 * P2year + beta4 * P1year + beta5 * data_confl['L5_' +country+ 'Conflict'][row5] + theta1 * Frequency4year + theta2 * Frequency3year + theta3 * Frequency2year + theta4 * Frequency1year + theta5 * data_confl['L5_' +country+ 'Frequency'][row5]\n",
    "P5year = st.norm.cdf(Y5year)\n",
    "print(P1year)\n",
    "print(P2year)\n",
    "print(P3year)\n",
    "print(P4year)\n",
    "print(P5year)"
   ]
  },
  {
   "cell_type": "code",
   "execution_count": 32,
   "metadata": {},
   "outputs": [
    {
     "data": {
      "image/png": "[encoded data removed]",
      "text/plain": [
       "<Figure size 1296x576 with 1 Axes>"
      ]
     },
     "metadata": {
      "needs_background": "light"
     },
     "output_type": "display_data"
    }
   ],
   "source": [
    "pred=results.predict()\n",
    "preds=pd.DataFrame(pred)\n",
    "forecast1=[P1year,P2year,P3year,P4year,P5year]\n",
    "preds = preds.append(forecast1,ignore_index=True)\n",
    "startValue=204-len(preds)\n",
    "\n",
    "realData=df_MIDB[country]\n",
    "indexYear = pd.read_csv('YearIndex.csv')[startValue:]\n",
    "index2 = df_MIDB['YEAR'][:]\n",
    "wide_df2 = pd.DataFrame(realData)\n",
    "plt.figure(figsize=(18,8))\n",
    "sns.scatterplot(y=realData,x=index2)\n",
    "sns.regplot(x=indexYear,y=preds,logistic=True,scatter=True,color='red')\n",
    "plt.title('Regression Line of Conflict for ' + country + ' Probit')\n",
    "plt.xlabel('Year') \n",
    "plt.ylabel('Probabilities')\n",
    "plt.savefig(country + '_probit_predict.png')"
   ]
  },
  {
   "cell_type": "code",
   "execution_count": 33,
   "metadata": {},
   "outputs": [
    {
     "data": {
      "image/png": "[encoded data removed]",
      "text/plain": [
       "<Figure size 432x288 with 1 Axes>"
      ]
     },
     "metadata": {
      "needs_background": "light"
     },
     "output_type": "display_data"
    }
   ],
   "source": [
    "preds2 = [P1year,P2year,P3year,P4year,P5year]\n",
    "x = ['2015','2016','2017','2018','2019']\n",
    "plt.title('Forecasted probabilities for 5 years ' + country + ' Probit')\n",
    "plt.xlabel('Year') \n",
    "plt.ylabel('Probabilities')\n",
    "plt.grid()\n",
    "plt.plot(x,preds2, 'o-', markeredgewidth=0)\n",
    "plt.savefig(country + '_5years_predict_probit.png')\n"
   ]
  },
  {
   "cell_type": "code",
   "execution_count": 34,
   "metadata": {},
   "outputs": [
    {
     "name": "stdout",
     "output_type": "stream",
     "text": [
      "166.81219978376336\n"
     ]
    }
   ],
   "source": [
    "print(results.aic)\n"
   ]
  },
  {
   "cell_type": "code",
   "execution_count": 35,
   "metadata": {},
   "outputs": [
    {
     "name": "stdout",
     "output_type": "stream",
     "text": [
      "176.64654376145492\n"
     ]
    }
   ],
   "source": [
    "print(results.bic)\n"
   ]
  },
  {
   "cell_type": "code",
   "execution_count": null,
   "metadata": {},
   "outputs": [],
   "source": []
  }
 ],
 "metadata": {
  "kernelspec": {
   "display_name": "Python 3",
   "language": "python",
   "name": "python3"
  },
  "language_info": {
   "codemirror_mode": {
    "name": "ipython",
    "version": 3
   },
   "file_extension": ".py",
   "mimetype": "text/x-python",
   "name": "python",
   "nbconvert_exporter": "python",
   "pygments_lexer": "ipython3",
   "version": "3.7.3"
  }
 },
 "nbformat": 4,
 "nbformat_minor": 4
}
